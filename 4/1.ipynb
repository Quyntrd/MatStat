{
 "cells": [
  {
   "cell_type": "code",
   "execution_count": 12,
   "metadata": {},
   "outputs": [],
   "source": [
    "import math\n",
    "import numpy as np\n",
    "import pandas as pd\n",
    "import matplotlib.pyplot as plt\n",
    "import scipy\n",
    "import os\n",
    "from sklearn.linear_model import LinearRegression\n",
    "\n",
    "from scipy import stats\n",
    "from scipy.stats import norm, ttest_ind, shapiro"
   ]
  },
  {
   "cell_type": "code",
   "execution_count": 17,
   "metadata": {},
   "outputs": [
    {
     "data": {
      "text/html": [
       "<div>\n",
       "<style scoped>\n",
       "    .dataframe tbody tr th:only-of-type {\n",
       "        vertical-align: middle;\n",
       "    }\n",
       "\n",
       "    .dataframe tbody tr th {\n",
       "        vertical-align: top;\n",
       "    }\n",
       "\n",
       "    .dataframe thead th {\n",
       "        text-align: right;\n",
       "    }\n",
       "</style>\n",
       "<table border=\"1\" class=\"dataframe\">\n",
       "  <thead>\n",
       "    <tr style=\"text-align: right;\">\n",
       "      <th></th>\n",
       "      <th>STAF</th>\n",
       "      <th>EDU</th>\n",
       "      <th>GEN</th>\n",
       "      <th>SAL</th>\n",
       "    </tr>\n",
       "  </thead>\n",
       "  <tbody>\n",
       "    <tr>\n",
       "      <th>0</th>\n",
       "      <td>22.384615</td>\n",
       "      <td>12</td>\n",
       "      <td>0</td>\n",
       "      <td>53.410000</td>\n",
       "    </tr>\n",
       "    <tr>\n",
       "      <th>1</th>\n",
       "      <td>8.903846</td>\n",
       "      <td>12</td>\n",
       "      <td>0</td>\n",
       "      <td>8.000000</td>\n",
       "    </tr>\n",
       "    <tr>\n",
       "      <th>2</th>\n",
       "      <td>13.250000</td>\n",
       "      <td>15</td>\n",
       "      <td>0</td>\n",
       "      <td>24.000000</td>\n",
       "    </tr>\n",
       "    <tr>\n",
       "      <th>3</th>\n",
       "      <td>18.250000</td>\n",
       "      <td>13</td>\n",
       "      <td>0</td>\n",
       "      <td>29.500000</td>\n",
       "    </tr>\n",
       "    <tr>\n",
       "      <th>4</th>\n",
       "      <td>13.769231</td>\n",
       "      <td>18</td>\n",
       "      <td>0</td>\n",
       "      <td>32.049999</td>\n",
       "    </tr>\n",
       "    <tr>\n",
       "      <th>...</th>\n",
       "      <td>...</td>\n",
       "      <td>...</td>\n",
       "      <td>...</td>\n",
       "      <td>...</td>\n",
       "    </tr>\n",
       "    <tr>\n",
       "      <th>504</th>\n",
       "      <td>16.019230</td>\n",
       "      <td>16</td>\n",
       "      <td>1</td>\n",
       "      <td>23.250000</td>\n",
       "    </tr>\n",
       "    <tr>\n",
       "      <th>505</th>\n",
       "      <td>17.557692</td>\n",
       "      <td>17</td>\n",
       "      <td>1</td>\n",
       "      <td>48.070000</td>\n",
       "    </tr>\n",
       "    <tr>\n",
       "      <th>506</th>\n",
       "      <td>18.942308</td>\n",
       "      <td>12</td>\n",
       "      <td>1</td>\n",
       "      <td>11.500000</td>\n",
       "    </tr>\n",
       "    <tr>\n",
       "      <th>507</th>\n",
       "      <td>17.442308</td>\n",
       "      <td>12</td>\n",
       "      <td>1</td>\n",
       "      <td>9.250000</td>\n",
       "    </tr>\n",
       "    <tr>\n",
       "      <th>508</th>\n",
       "      <td>22.134615</td>\n",
       "      <td>13</td>\n",
       "      <td>1</td>\n",
       "      <td>23.000000</td>\n",
       "    </tr>\n",
       "  </tbody>\n",
       "</table>\n",
       "<p>509 rows × 4 columns</p>\n",
       "</div>"
      ],
      "text/plain": [
       "          STAF  EDU  GEN        SAL\n",
       "0    22.384615   12    0  53.410000\n",
       "1     8.903846   12    0   8.000000\n",
       "2    13.250000   15    0  24.000000\n",
       "3    18.250000   13    0  29.500000\n",
       "4    13.769231   18    0  32.049999\n",
       "..         ...  ...  ...        ...\n",
       "504  16.019230   16    1  23.250000\n",
       "505  17.557692   17    1  48.070000\n",
       "506  18.942308   12    1  11.500000\n",
       "507  17.442308   12    1   9.250000\n",
       "508  22.134615   13    1  23.000000\n",
       "\n",
       "[509 rows x 4 columns]"
      ]
     },
     "execution_count": 17,
     "metadata": {},
     "output_type": "execute_result"
    }
   ],
   "source": [
    "path = \"C:\\\\Users\\\\ROfl\\\\Desktop\\\\MS\\\\MatStat\\\\4\"\n",
    "os.chdir(path)\n",
    "\n",
    "CFD = pd.read_excel(\"DATA.xlsx\", sheet_name='ДАННЫЕ')\n",
    "CFD.columns = [\"STAF\",\"EDU\",\"GEN\",\"SAL\"]\n",
    "n = 509\n",
    "CFD = CFD.iloc[: n]\n",
    "CFD"
   ]
  },
  {
   "cell_type": "code",
   "execution_count": 25,
   "metadata": {},
   "outputs": [],
   "source": [
    "alpha = 0.02\n",
    "gamma = 0.975\n",
    "n = 509"
   ]
  },
  {
   "cell_type": "code",
   "execution_count": 13,
   "metadata": {},
   "outputs": [],
   "source": [
    "model = LinearRegression()"
   ]
  },
  {
   "cell_type": "code",
   "execution_count": 27,
   "metadata": {},
   "outputs": [
    {
     "name": "stdout",
     "output_type": "stream",
     "text": [
      "Оценка свободного члена (b_0): 23.1145\n",
      "Оценка коэффициента при Z (b_1): -6.9108\n",
      "Коэффициент детерминации R^2: 0.0551\n",
      "t-статистика: -5.4348\n",
      "Критическое значение t при alpha = 0.02: 2.3337\n",
      "Коэффициент b_1 статистически значим.\n"
     ]
    }
   ],
   "source": [
    "X = CFD[[\"GEN\"]].values\n",
    "Y = CFD[\"SAL\"].values\n",
    "model.fit(X, Y)\n",
    "\n",
    "b_0_hat = model.intercept_\n",
    "b_1_hat = model.coef_[0]\n",
    "print(f'Оценка свободного члена (b_0): {b_0_hat:.4f}')\n",
    "print(f'Оценка коэффициента при Z (b_1): {b_1_hat:.4f}')\n",
    "\n",
    "# Коэффициент детерминации R^2\n",
    "R2 = model.score(X, Y)\n",
    "print(f'Коэффициент детерминации R^2: {R2:.4f}')\n",
    "\n",
    "# Проверка гипотезы о значимости b_1\n",
    "n = len(Y)  # Объем выборки\n",
    "y_pred = model.predict(X)  # Предсказанные значения\n",
    "errors = Y - y_pred  # Остатки\n",
    "# Стандартная ошибка коэффициента b_1\n",
    "S_e2 = np.sum(errors**2) / (n - 2)  # Оценка дисперсии ошибок\n",
    "X_mean = np.mean(X)\n",
    "S_b1 = np.sqrt(S_e2 / np.sum((X - X_mean)**2))\n",
    "\n",
    "# t-статистика для b_1\n",
    "t_stat = b_1_hat / S_b1\n",
    "t_crit = stats.t.ppf(1 - alpha / 2, df=n - 2)\n",
    "\n",
    "print(f't-статистика: {t_stat:.4f}')\n",
    "print(f'Критическое значение t при alpha = {alpha}: {t_crit:.4f}')\n",
    "\n",
    "if abs(t_stat) > t_crit:\n",
    "    print(\"Коэффициент b_1 статистически значим.\")\n",
    "else:\n",
    "    print(\"Коэффициент b_1 незначим.\")"
   ]
  },
  {
   "cell_type": "code",
   "execution_count": 30,
   "metadata": {},
   "outputs": [],
   "source": [
    "# Параметры модели\n",
    "k = 1  # Количество объясняющих переменных\n",
    "# F-статистика\n",
    "F_obs = (R2 / k) / ((1 - R2) / (n - k - 1))\n",
    "\n",
    "# Критическое значение F\n",
    "alpha = 0.02\n",
    "F_crit = stats.f.ppf(1 - alpha, dfn=k, dfd=n - k - 1)"
   ]
  },
  {
   "cell_type": "code",
   "execution_count": 31,
   "metadata": {},
   "outputs": [
    {
     "name": "stdout",
     "output_type": "stream",
     "text": [
      "Наблюдаемое значение F: 29.5373\n",
      "Критическое значение F при alpha = 0.02: 5.4463\n",
      "Модель обладает высокой объясняющей способностью.\n"
     ]
    }
   ],
   "source": [
    "print(f'Наблюдаемое значение F: {F_obs:.4f}')\n",
    "print(f'Критическое значение F при alpha = {alpha}: {F_crit:.4f}')\n",
    "\n",
    "if F_obs > F_crit:\n",
    "    print(\"Модель обладает высокой объясняющей способностью.\")\n",
    "else:\n",
    "    print(\"Модель низкого качества.\")"
   ]
  },
  {
   "cell_type": "code",
   "execution_count": 37,
   "metadata": {},
   "outputs": [],
   "source": [
    "Y = CFD[\"SAL\"]\n",
    "X = CFD[[\"STAF\",\"EDU\"]]"
   ]
  },
  {
   "cell_type": "code",
   "execution_count": 38,
   "metadata": {},
   "outputs": [
    {
     "name": "stdout",
     "output_type": "stream",
     "text": [
      "Свободный член (beta_0): -27.455478527947783\n",
      "Коэффициенты (beta_1, beta_2): [0.59154003 2.72649098]\n"
     ]
    }
   ],
   "source": [
    "# Модель линейной регрессии\n",
    "model = LinearRegression()\n",
    "model.fit(X, Y)\n",
    "\n",
    "# Коэффициенты модели\n",
    "print(f\"Свободный член (beta_0): {model.intercept_}\")\n",
    "print(f\"Коэффициенты (beta_1, beta_2): {model.coef_}\")"
   ]
  },
  {
   "cell_type": "code",
   "execution_count": 44,
   "metadata": {},
   "outputs": [
    {
     "name": "stdout",
     "output_type": "stream",
     "text": [
      "Изменение зарплаты, если стаж увеличиться на 1 год, при неизменном образовании: 0.591540026520532\n"
     ]
    }
   ],
   "source": [
    "print(f\"Изменение зарплаты, если стаж увеличиться на 1 год, при неизменном образовании: {model.coef_[0]}\")"
   ]
  },
  {
   "cell_type": "code",
   "execution_count": 45,
   "metadata": {},
   "outputs": [
    {
     "name": "stdout",
     "output_type": "stream",
     "text": [
      "Прибавка к зарплате при доп годе обучения, при неизм стаже: 2.726490975272277\n"
     ]
    }
   ],
   "source": [
    "print(f\"Прибавка к зарплате при доп годе обучения, при неизм стаже: {model.coef_[1]}\")"
   ]
  },
  {
   "cell_type": "code",
   "execution_count": 51,
   "metadata": {},
   "outputs": [
    {
     "name": "stdout",
     "output_type": "stream",
     "text": [
      "F-статистика: 14.739536583495035\n",
      "Критическое значение F: 3.942424406703579\n",
      "Модель обладает высокой объясняющей способностью (отвергаем H0).\n"
     ]
    }
   ],
   "source": [
    "k = 2\n",
    "F = (R2 / k) / ((1 - R2) / (n - k - 1))\n",
    "print('F-статистика:', F)\n",
    "\n",
    "df1 = k\n",
    "df2 = n - k - 1\n",
    "F_critical = stats.f.ppf(1 - alpha, df1, df2)\n",
    "print('Критическое значение F:', F_critical)\n",
    "\n",
    "\n",
    "#H0: Коэффициенты при факторах равны нулю, модель не объясняет зависимую переменную\n",
    "#H1: Хотя бы один из коэффициентов не равен нулю — модель обладает объясняющей способностью.\n",
    "# Проверка гипотезы\n",
    "if F > F_critical:\n",
    "    print(\"Модель обладает высокой объясняющей способностью (отвергаем H0).\")\n",
    "else:\n",
    "    print(\"Модель низкого качества (не отвергаем H0).\")"
   ]
  },
  {
   "cell_type": "code",
   "execution_count": 53,
   "metadata": {},
   "outputs": [
    {
     "name": "stdout",
     "output_type": "stream",
     "text": [
      "Коэффициенты регрессии и их доверительные интервалы:\n",
      "β0: 0.5915, ДИ: (0.3676, 0.8155)\n",
      "β1: 2.7265, ДИ: (2.4445, 3.0085)\n"
     ]
    }
   ],
   "source": [
    "beta_hat=model.coef_\n",
    "\n",
    "# Оценка остатков и дисперсии\n",
    "n, k = X.shape[0], X.shape[1] - 1\n",
    "y_pred = model.predict(X)\n",
    "residuals = Y - y_pred\n",
    "sigma2 = np.sum(residuals**2) / (n - k - 1)\n",
    "\n",
    "# Ковариационная матрица коэффициентов\n",
    "XTX_inv = np.linalg.inv(X.T @ X)\n",
    "cov_beta = sigma2 * XTX_inv\n",
    "se_beta = np.sqrt(np.diag(cov_beta))\n",
    "\n",
    "# t-критическое значение\n",
    "alpha = 1 - gamma\n",
    "t_critical = stats.t.ppf(1 - alpha / 2, df=n - k - 1)\n",
    "\n",
    "# Доверительные интервалы\n",
    "conf_intervals = []\n",
    "for i, beta in enumerate(beta_hat):\n",
    "    margin_of_error = t_critical * se_beta[i]\n",
    "    conf_intervals.append((beta - margin_of_error, beta + margin_of_error))\n",
    "\n",
    "# Вывод результатов\n",
    "print(\"Коэффициенты регрессии и их доверительные интервалы:\")\n",
    "for i, (beta, ci) in enumerate(zip(beta_hat, conf_intervals)):\n",
    "    print(f\"β{i}: {beta:.4f}, ДИ: ({ci[0]:.4f}, {ci[1]:.4f})\")"
   ]
  }
 ],
 "metadata": {
  "kernelspec": {
   "display_name": "base",
   "language": "python",
   "name": "python3"
  },
  "language_info": {
   "codemirror_mode": {
    "name": "ipython",
    "version": 3
   },
   "file_extension": ".py",
   "mimetype": "text/x-python",
   "name": "python",
   "nbconvert_exporter": "python",
   "pygments_lexer": "ipython3",
   "version": "3.11.5"
  }
 },
 "nbformat": 4,
 "nbformat_minor": 2
}
