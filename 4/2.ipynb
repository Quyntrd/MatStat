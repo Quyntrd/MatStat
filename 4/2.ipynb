{
 "cells": [
  {
   "cell_type": "code",
   "execution_count": 19,
   "metadata": {},
   "outputs": [],
   "source": [
    "import math\n",
    "import numpy as np\n",
    "import pandas as pd\n",
    "import matplotlib.pyplot as plt\n",
    "import scipy\n",
    "import os\n",
    "from sklearn.linear_model import LinearRegression\n",
    "import statsmodels.api as sm\n",
    "from scipy import stats\n",
    "from scipy.stats import norm, ttest_ind, shapiro"
   ]
  },
  {
   "cell_type": "code",
   "execution_count": 20,
   "metadata": {},
   "outputs": [
    {
     "data": {
      "text/html": [
       "<div>\n",
       "<style scoped>\n",
       "    .dataframe tbody tr th:only-of-type {\n",
       "        vertical-align: middle;\n",
       "    }\n",
       "\n",
       "    .dataframe tbody tr th {\n",
       "        vertical-align: top;\n",
       "    }\n",
       "\n",
       "    .dataframe thead th {\n",
       "        text-align: right;\n",
       "    }\n",
       "</style>\n",
       "<table border=\"1\" class=\"dataframe\">\n",
       "  <thead>\n",
       "    <tr style=\"text-align: right;\">\n",
       "      <th></th>\n",
       "      <th>STAF</th>\n",
       "      <th>EDU</th>\n",
       "      <th>GEN</th>\n",
       "      <th>SAL</th>\n",
       "    </tr>\n",
       "  </thead>\n",
       "  <tbody>\n",
       "    <tr>\n",
       "      <th>0</th>\n",
       "      <td>22.384615</td>\n",
       "      <td>12</td>\n",
       "      <td>0</td>\n",
       "      <td>53.410000</td>\n",
       "    </tr>\n",
       "    <tr>\n",
       "      <th>1</th>\n",
       "      <td>8.903846</td>\n",
       "      <td>12</td>\n",
       "      <td>0</td>\n",
       "      <td>8.000000</td>\n",
       "    </tr>\n",
       "    <tr>\n",
       "      <th>2</th>\n",
       "      <td>13.250000</td>\n",
       "      <td>15</td>\n",
       "      <td>0</td>\n",
       "      <td>24.000000</td>\n",
       "    </tr>\n",
       "    <tr>\n",
       "      <th>3</th>\n",
       "      <td>18.250000</td>\n",
       "      <td>13</td>\n",
       "      <td>0</td>\n",
       "      <td>29.500000</td>\n",
       "    </tr>\n",
       "    <tr>\n",
       "      <th>4</th>\n",
       "      <td>13.769231</td>\n",
       "      <td>18</td>\n",
       "      <td>0</td>\n",
       "      <td>32.049999</td>\n",
       "    </tr>\n",
       "    <tr>\n",
       "      <th>...</th>\n",
       "      <td>...</td>\n",
       "      <td>...</td>\n",
       "      <td>...</td>\n",
       "      <td>...</td>\n",
       "    </tr>\n",
       "    <tr>\n",
       "      <th>504</th>\n",
       "      <td>16.019230</td>\n",
       "      <td>16</td>\n",
       "      <td>1</td>\n",
       "      <td>23.250000</td>\n",
       "    </tr>\n",
       "    <tr>\n",
       "      <th>505</th>\n",
       "      <td>17.557692</td>\n",
       "      <td>17</td>\n",
       "      <td>1</td>\n",
       "      <td>48.070000</td>\n",
       "    </tr>\n",
       "    <tr>\n",
       "      <th>506</th>\n",
       "      <td>18.942308</td>\n",
       "      <td>12</td>\n",
       "      <td>1</td>\n",
       "      <td>11.500000</td>\n",
       "    </tr>\n",
       "    <tr>\n",
       "      <th>507</th>\n",
       "      <td>17.442308</td>\n",
       "      <td>12</td>\n",
       "      <td>1</td>\n",
       "      <td>9.250000</td>\n",
       "    </tr>\n",
       "    <tr>\n",
       "      <th>508</th>\n",
       "      <td>22.134615</td>\n",
       "      <td>13</td>\n",
       "      <td>1</td>\n",
       "      <td>23.000000</td>\n",
       "    </tr>\n",
       "  </tbody>\n",
       "</table>\n",
       "<p>509 rows × 4 columns</p>\n",
       "</div>"
      ],
      "text/plain": [
       "          STAF  EDU  GEN        SAL\n",
       "0    22.384615   12    0  53.410000\n",
       "1     8.903846   12    0   8.000000\n",
       "2    13.250000   15    0  24.000000\n",
       "3    18.250000   13    0  29.500000\n",
       "4    13.769231   18    0  32.049999\n",
       "..         ...  ...  ...        ...\n",
       "504  16.019230   16    1  23.250000\n",
       "505  17.557692   17    1  48.070000\n",
       "506  18.942308   12    1  11.500000\n",
       "507  17.442308   12    1   9.250000\n",
       "508  22.134615   13    1  23.000000\n",
       "\n",
       "[509 rows x 4 columns]"
      ]
     },
     "execution_count": 20,
     "metadata": {},
     "output_type": "execute_result"
    }
   ],
   "source": [
    "path = \"C:\\\\Users\\\\ROfl\\\\Desktop\\\\MS\\\\MatStat\\\\4\"\n",
    "os.chdir(path)\n",
    "\n",
    "CFD = pd.read_excel(\"DATA.xlsx\", sheet_name='ДАННЫЕ')\n",
    "CFD.columns = [\"STAF\",\"EDU\",\"GEN\",\"SAL\"]\n",
    "n = 509\n",
    "CFD = CFD.iloc[: n]\n",
    "CFD"
   ]
  },
  {
   "cell_type": "code",
   "execution_count": 21,
   "metadata": {},
   "outputs": [],
   "source": [
    "alpha = 0.02\n",
    "gamma = 0.975\n",
    "n = 509"
   ]
  },
  {
   "cell_type": "code",
   "execution_count": 22,
   "metadata": {},
   "outputs": [],
   "source": [
    "X = CFD[['STAF', 'EDU', 'GEN']]\n",
    "X = np.c_[np.ones(X.shape[0]), X]  # Добавляем столбец для константы (свободный член)\n",
    "y = CFD['SAL']\n",
    "\n",
    "# Построение модели\n",
    "model = LinearRegression(fit_intercept=False)  # fit_intercept=False так как мы уже добавили константу вручную\n",
    "model.fit(X, y)\n",
    "\n",
    "# Получаем оценки коэффициентов\n",
    "beta_hat = model.coef_"
   ]
  },
  {
   "cell_type": "code",
   "execution_count": 23,
   "metadata": {},
   "outputs": [
    {
     "name": "stdout",
     "output_type": "stream",
     "text": [
      "Оценки параметров модели:\n",
      "β0 (константа): -20.8922\n",
      "β1 (СТАЖ РАБОТЫ): 0.4327\n",
      "β2 (ВРЕМЯ, ЗАТРАЧЕННОЕ НА ОБРАЗОВАНИЕ): 2.6434\n",
      "β3 (ПОЛ): -5.8258\n"
     ]
    }
   ],
   "source": [
    "# Выводим оценки параметров модели\n",
    "print(\"Оценки параметров модели:\")\n",
    "print(f\"β0 (константа): {beta_hat[0]:.4f}\")\n",
    "print(f\"β1 (СТАЖ РАБОТЫ): {beta_hat[1]:.4f}\")\n",
    "print(f\"β2 (ВРЕМЯ, ЗАТРАЧЕННОЕ НА ОБРАЗОВАНИЕ): {beta_hat[2]:.4f}\")\n",
    "print(f\"β3 (ПОЛ): {beta_hat[3]:.4f}\")"
   ]
  },
  {
   "cell_type": "code",
   "execution_count": 24,
   "metadata": {},
   "outputs": [
    {
     "name": "stdout",
     "output_type": "stream",
     "text": [
      "                            OLS Regression Results                            \n",
      "==============================================================================\n",
      "Dep. Variable:                    SAL   R-squared:                       0.242\n",
      "Model:                            OLS   Adj. R-squared:                  0.238\n",
      "Method:                 Least Squares   F-statistic:                     53.75\n",
      "Date:                Sat, 14 Dec 2024   Prob (F-statistic):           3.65e-30\n",
      "Time:                        17:51:08   Log-Likelihood:                -2019.8\n",
      "No. Observations:                 509   AIC:                             4048.\n",
      "Df Residuals:                     505   BIC:                             4065.\n",
      "Df Model:                           3                                         \n",
      "Covariance Type:            nonrobust                                         \n",
      "==============================================================================\n",
      "                 coef    std err          t      P>|t|      [0.025      0.975]\n",
      "------------------------------------------------------------------------------\n",
      "const        -20.8922      4.564     -4.578      0.000     -29.859     -11.926\n",
      "STAF           0.4327      0.137      3.170      0.002       0.165       0.701\n",
      "EDU            2.6434      0.237     11.144      0.000       2.177       3.109\n",
      "GEN           -5.8258      1.174     -4.962      0.000      -8.132      -3.519\n",
      "==============================================================================\n",
      "Omnibus:                      378.765   Durbin-Watson:                   1.888\n",
      "Prob(Omnibus):                  0.000   Jarque-Bera (JB):             6412.778\n",
      "Skew:                           3.108   Prob(JB):                         0.00\n",
      "Kurtosis:                      19.240   Cond. No.                         178.\n",
      "==============================================================================\n",
      "\n",
      "Notes:\n",
      "[1] Standard Errors assume that the covariance matrix of the errors is correctly specified.\n",
      "Коэффициент детерминации R^2: 0.2420\n",
      "\n",
      "P-значения для коэффициентов:\n",
      "const    5.925957e-06\n",
      "STAF     1.619605e-03\n",
      "EDU      6.131317e-26\n",
      "GEN      9.532785e-07\n",
      "dtype: float64\n",
      "\n",
      "Коэффициенты с p-значением меньше alpha:\n",
      "const    True\n",
      "STAF     True\n",
      "EDU      True\n",
      "GEN      True\n",
      "dtype: bool\n"
     ]
    }
   ],
   "source": [
    "X = CFD[['STAF', 'EDU', 'GEN']]\n",
    "y = CFD['SAL']\n",
    "\n",
    "# Добавляем столбец для константы\n",
    "X = sm.add_constant(X)\n",
    "\n",
    "# Построение модели с использованием statsmodels\n",
    "model = sm.OLS(y, X).fit()\n",
    "\n",
    "# Выводим сводку о модели, которая включает p-значения и коэффициенты\n",
    "print(model.summary())\n",
    "\n",
    "# Проверка объясняющей способности модели (коэффициент детерминации R^2)\n",
    "R2 = model.rsquared\n",
    "print(f\"Коэффициент детерминации R^2: {R2:.4f}\")\n",
    "\n",
    "# Получаем p-значения для каждого коэффициента\n",
    "p_values = model.pvalues\n",
    "print(\"\\nP-значения для коэффициентов:\")\n",
    "print(p_values)\n",
    "\n",
    "# Проверка значимости на уровне alpha\n",
    "significant_coefficients = p_values < alpha\n",
    "print(\"\\nКоэффициенты с p-значением меньше alpha:\")\n",
    "print(significant_coefficients)\n"
   ]
  },
  {
   "cell_type": "code",
   "execution_count": 25,
   "metadata": {},
   "outputs": [
    {
     "name": "stdout",
     "output_type": "stream",
     "text": [
      "P-значение для переменной 'ПОЛ': 9.532785261414297e-07\n"
     ]
    }
   ],
   "source": [
    "p_value = model.pvalues['GEN']\n",
    "print(f\"P-значение для переменной 'ПОЛ': {p_value}\")"
   ]
  },
  {
   "cell_type": "code",
   "execution_count": 26,
   "metadata": {},
   "outputs": [
    {
     "name": "stdout",
     "output_type": "stream",
     "text": [
      "ПОЛ оказывает значимое влияние на зарплату при прочих равных условиях.\n"
     ]
    }
   ],
   "source": [
    "if p_value < alpha:\n",
    "    print(\"ПОЛ оказывает значимое влияние на зарплату при прочих равных условиях.\")\n",
    "else:\n",
    "    print(\"ПОЛ не оказывает значимого влияния на зарплату при прочих равных условиях.\")"
   ]
  },
  {
   "cell_type": "code",
   "execution_count": 27,
   "metadata": {},
   "outputs": [
    {
     "name": "stdout",
     "output_type": "stream",
     "text": [
      "P-значение для переменной 'СТАЖ РАБОТЫ': 0.0016196046314132558\n"
     ]
    }
   ],
   "source": [
    "p_value_stazh = model.pvalues['STAF']\n",
    "print(f\"P-значение для переменной 'СТАЖ РАБОТЫ': {p_value_stazh}\")"
   ]
  },
  {
   "cell_type": "code",
   "execution_count": 28,
   "metadata": {},
   "outputs": [
    {
     "name": "stdout",
     "output_type": "stream",
     "text": [
      "СТАЖ РАБОТЫ оказывает значимое влияние на зарплату.\n"
     ]
    }
   ],
   "source": [
    "if p_value_stazh < alpha:\n",
    "    print(\"СТАЖ РАБОТЫ оказывает значимое влияние на зарплату.\")\n",
    "else:\n",
    "    print(\"СТАЖ РАБОТЫ не оказывает значимого влияния на зарплату.\")"
   ]
  },
  {
   "cell_type": "code",
   "execution_count": 29,
   "metadata": {},
   "outputs": [
    {
     "name": "stdout",
     "output_type": "stream",
     "text": [
      "P-значение для переменной 'СТАЖ РАБОТЫ': 6.131317417087692e-26\n"
     ]
    }
   ],
   "source": [
    "p_value_edu = model.pvalues['EDU']\n",
    "print(f\"P-значение для переменной 'СТАЖ РАБОТЫ': {p_value_edu}\")"
   ]
  },
  {
   "cell_type": "code",
   "execution_count": 30,
   "metadata": {},
   "outputs": [
    {
     "name": "stdout",
     "output_type": "stream",
     "text": [
      "СТАЖ РАБОТЫ оказывает значимое влияние на зарплату.\n"
     ]
    }
   ],
   "source": [
    "if p_value_edu < alpha:\n",
    "    print(\"СТАЖ РАБОТЫ оказывает значимое влияние на зарплату.\")\n",
    "else:\n",
    "    print(\"СТАЖ РАБОТЫ не оказывает значимого влияния на зарплату.\")"
   ]
  },
  {
   "cell_type": "code",
   "execution_count": 31,
   "metadata": {},
   "outputs": [],
   "source": [
    "X = CFD[['STAF', 'EDU', 'GEN']]\n",
    "y = CFD['SAL']\n",
    "X = sm.add_constant(X)"
   ]
  },
  {
   "cell_type": "code",
   "execution_count": 32,
   "metadata": {},
   "outputs": [],
   "source": [
    "model = sm.OLS(y, X).fit()"
   ]
  },
  {
   "cell_type": "code",
   "execution_count": 33,
   "metadata": {},
   "outputs": [],
   "source": [
    "a = 11  # СТАЖ РАБОТЫ\n",
    "b = 14  # ВРЕМЯ, ЗАТРАЧЕННОЕ НА ОБРАЗОВАНИЕ\n",
    "Z = 0  # Пол "
   ]
  },
  {
   "cell_type": "code",
   "execution_count": 34,
   "metadata": {},
   "outputs": [],
   "source": [
    "X_new = np.array([1, a, b, Z]).reshape(1, -1)  # Вектор для нового наблюдения\n",
    "y_new = model.predict(X_new)[0]"
   ]
  },
  {
   "cell_type": "code",
   "execution_count": 35,
   "metadata": {},
   "outputs": [],
   "source": [
    "y_hat = model.fittedvalues\n",
    "residuals = y - y_hat\n",
    "mse = np.sum(residuals**2) / (len(y) - X.shape[1])\n",
    "se_y_new = np.sqrt(mse * (1 + X_new @ np.linalg.inv(X.T @ X) @ X_new.T))"
   ]
  },
  {
   "cell_type": "code",
   "execution_count": 36,
   "metadata": {},
   "outputs": [],
   "source": [
    "# t-статистика для уровня значимости gamma (например, 0.975)\n",
    "alpha = 1 - 0.975\n",
    "t_critical = stats.t.ppf(1 - alpha/2, df=len(y) - X.shape[1])\n"
   ]
  },
  {
   "cell_type": "code",
   "execution_count": 38,
   "metadata": {},
   "outputs": [
    {
     "name": "stdout",
     "output_type": "stream",
     "text": [
      "Прогнозная зарплата: 20.87\n",
      "Доверительный интервал: ([[-8.13772139]], [[49.88752064]])\n"
     ]
    }
   ],
   "source": [
    "lower_bound = y_new - t_critical * se_y_new\n",
    "upper_bound = y_new + t_critical * se_y_new\n",
    "\n",
    "print(f\"Прогнозная зарплата: {y_new:.2f}\")\n",
    "print(f\"Доверительный интервал: ({lower_bound}, {upper_bound})\")"
   ]
  },
  {
   "cell_type": "code",
   "execution_count": 39,
   "metadata": {},
   "outputs": [
    {
     "name": "stdout",
     "output_type": "stream",
     "text": [
      "Изменение зарплаты при увеличении стажа на 2 года: 0.87 долларов в час\n"
     ]
    }
   ],
   "source": [
    "beta_1 = model.params['STAF']  # Получаем коэффициент из модели\n",
    "\n",
    "# Изменение зарплаты при увеличении СТАЖА РАБОТЫ на 2 года\n",
    "delta_salary = beta_1 * 2\n",
    "print(f\"Изменение зарплаты при увеличении стажа на 2 года: {delta_salary:.2f} долларов в час\")"
   ]
  },
  {
   "cell_type": "code",
   "execution_count": null,
   "metadata": {},
   "outputs": [],
   "source": []
  }
 ],
 "metadata": {
  "kernelspec": {
   "display_name": "base",
   "language": "python",
   "name": "python3"
  },
  "language_info": {
   "codemirror_mode": {
    "name": "ipython",
    "version": 3
   },
   "file_extension": ".py",
   "mimetype": "text/x-python",
   "name": "python",
   "nbconvert_exporter": "python",
   "pygments_lexer": "ipython3",
   "version": "3.11.5"
  }
 },
 "nbformat": 4,
 "nbformat_minor": 2
}
