{
 "cells": [
  {
   "cell_type": "code",
   "execution_count": 26,
   "metadata": {},
   "outputs": [],
   "source": [
    "import math\n",
    "import numpy as np\n",
    "import pandas as pd\n",
    "import matplotlib.pyplot as plt\n",
    "import scipy\n",
    "import os\n",
    "\n",
    "from scipy import stats\n",
    "from scipy.stats import norm, ttest_ind, shapiro"
   ]
  },
  {
   "cell_type": "code",
   "execution_count": 40,
   "metadata": {},
   "outputs": [
    {
     "data": {
      "text/html": [
       "<div>\n",
       "<style scoped>\n",
       "    .dataframe tbody tr th:only-of-type {\n",
       "        vertical-align: middle;\n",
       "    }\n",
       "\n",
       "    .dataframe tbody tr th {\n",
       "        vertical-align: top;\n",
       "    }\n",
       "\n",
       "    .dataframe thead th {\n",
       "        text-align: right;\n",
       "    }\n",
       "</style>\n",
       "<table border=\"1\" class=\"dataframe\">\n",
       "  <thead>\n",
       "    <tr style=\"text-align: right;\">\n",
       "      <th></th>\n",
       "      <th>2005</th>\n",
       "      <th>2010</th>\n",
       "      <th>2015</th>\n",
       "      <th>2019</th>\n",
       "      <th>2020</th>\n",
       "      <th>2021</th>\n",
       "    </tr>\n",
       "    <tr>\n",
       "      <th>Название области</th>\n",
       "      <th></th>\n",
       "      <th></th>\n",
       "      <th></th>\n",
       "      <th></th>\n",
       "      <th></th>\n",
       "      <th></th>\n",
       "    </tr>\n",
       "  </thead>\n",
       "  <tbody>\n",
       "    <tr>\n",
       "      <th>Республика Бурятия</th>\n",
       "      <td>38.6</td>\n",
       "      <td>41.3</td>\n",
       "      <td>45.6</td>\n",
       "      <td>45.1</td>\n",
       "      <td>44.7</td>\n",
       "      <td>43.4</td>\n",
       "    </tr>\n",
       "    <tr>\n",
       "      <th>Республика Саха (Якутия)</th>\n",
       "      <td>49.3</td>\n",
       "      <td>57.1</td>\n",
       "      <td>55.2</td>\n",
       "      <td>61.6</td>\n",
       "      <td>60.3</td>\n",
       "      <td>60.0</td>\n",
       "    </tr>\n",
       "    <tr>\n",
       "      <th>Забайкальский край</th>\n",
       "      <td>52.5</td>\n",
       "      <td>56.1</td>\n",
       "      <td>48.8</td>\n",
       "      <td>50.9</td>\n",
       "      <td>52.3</td>\n",
       "      <td>50.9</td>\n",
       "    </tr>\n",
       "    <tr>\n",
       "      <th>Камчатский край</th>\n",
       "      <td>53.2</td>\n",
       "      <td>49.3</td>\n",
       "      <td>53.6</td>\n",
       "      <td>52.9</td>\n",
       "      <td>52.5</td>\n",
       "      <td>54.9</td>\n",
       "    </tr>\n",
       "    <tr>\n",
       "      <th>Приморский край</th>\n",
       "      <td>53.5</td>\n",
       "      <td>52.7</td>\n",
       "      <td>50.0</td>\n",
       "      <td>51.8</td>\n",
       "      <td>51.1</td>\n",
       "      <td>50.8</td>\n",
       "    </tr>\n",
       "    <tr>\n",
       "      <th>Хабаровский край</th>\n",
       "      <td>60.5</td>\n",
       "      <td>61.1</td>\n",
       "      <td>53.5</td>\n",
       "      <td>56.4</td>\n",
       "      <td>57.5</td>\n",
       "      <td>56.4</td>\n",
       "    </tr>\n",
       "    <tr>\n",
       "      <th>Амурская область</th>\n",
       "      <td>60.7</td>\n",
       "      <td>62.8</td>\n",
       "      <td>55.4</td>\n",
       "      <td>54.9</td>\n",
       "      <td>55.4</td>\n",
       "      <td>56.8</td>\n",
       "    </tr>\n",
       "    <tr>\n",
       "      <th>Магаданская область</th>\n",
       "      <td>55.2</td>\n",
       "      <td>55.6</td>\n",
       "      <td>61.0</td>\n",
       "      <td>62.2</td>\n",
       "      <td>62.4</td>\n",
       "      <td>63.1</td>\n",
       "    </tr>\n",
       "    <tr>\n",
       "      <th>Сахалинская область</th>\n",
       "      <td>44.0</td>\n",
       "      <td>49.1</td>\n",
       "      <td>54.1</td>\n",
       "      <td>63.6</td>\n",
       "      <td>64.6</td>\n",
       "      <td>65.5</td>\n",
       "    </tr>\n",
       "    <tr>\n",
       "      <th>Еврейская автономная  область</th>\n",
       "      <td>37.0</td>\n",
       "      <td>35.4</td>\n",
       "      <td>37.9</td>\n",
       "      <td>38.0</td>\n",
       "      <td>37.6</td>\n",
       "      <td>35.2</td>\n",
       "    </tr>\n",
       "    <tr>\n",
       "      <th>Чукотский автономный округ</th>\n",
       "      <td>78.8</td>\n",
       "      <td>76.7</td>\n",
       "      <td>65.0</td>\n",
       "      <td>71.0</td>\n",
       "      <td>73.7</td>\n",
       "      <td>74.1</td>\n",
       "    </tr>\n",
       "  </tbody>\n",
       "</table>\n",
       "</div>"
      ],
      "text/plain": [
       "                               2005  2010  2015  2019  2020  2021\n",
       "Название области                                                 \n",
       "Республика Бурятия             38.6  41.3  45.6  45.1  44.7  43.4\n",
       "Республика Саха (Якутия)       49.3  57.1  55.2  61.6  60.3  60.0\n",
       "Забайкальский край             52.5  56.1  48.8  50.9  52.3  50.9\n",
       "Камчатский край                53.2  49.3  53.6  52.9  52.5  54.9\n",
       "Приморский край                53.5  52.7  50.0  51.8  51.1  50.8\n",
       "Хабаровский край               60.5  61.1  53.5  56.4  57.5  56.4\n",
       "Амурская область               60.7  62.8  55.4  54.9  55.4  56.8\n",
       "Магаданская область            55.2  55.6  61.0  62.2  62.4  63.1\n",
       "Сахалинская область            44.0  49.1  54.1  63.6  64.6  65.5\n",
       "Еврейская автономная  область  37.0  35.4  37.9  38.0  37.6  35.2\n",
       "Чукотский автономный округ     78.8  76.7  65.0  71.0  73.7  74.1"
      ]
     },
     "execution_count": 40,
     "metadata": {},
     "output_type": "execute_result"
    }
   ],
   "source": [
    "path = \"C:\\\\Users\\\\Quyntrd\\\\Desktop\\\\MatStat\\\\3\"\n",
    "os.chdir(path)\n",
    "\n",
    "CFD = pd.read_excel(\"CHISLO_DOCTORS.xlsx\", sheet_name='ROSSTAT')\n",
    "\n",
    "CFD = CFD.iloc[90:101]\n",
    "CFD = CFD.iloc[:, :13]\n",
    "CFD = CFD.drop(CFD.columns[[1,2,3,4,5,6]], axis=1)\n",
    "CFD.columns = ['Название области', '2005', '2010', '2015','2019', '2020', '2021']\n",
    "CFD.set_index('Название области', inplace=True)\n",
    "\n",
    "CFD = CFD.astype(float).copy()\n",
    "\n",
    "data = []\n",
    "for i in range(len(CFD.columns)):\n",
    "    for j in range (len(CFD.iloc[:, i])):\n",
    "        data.append(CFD.iloc[j,i])\n",
    "print(data)"
   ]
  },
  {
   "cell_type": "code",
   "execution_count": 41,
   "metadata": {},
   "outputs": [
    {
     "name": "stdout",
     "output_type": "stream",
     "text": [
      "Результаты теста Шапиро-Уилка - :\n",
      "Статистика теста: 0.9724\n",
      "P-значение: 0.1474\n",
      "Гипотеза о нормальности НЕ отвергается на уровне значимости 0.025.\n",
      "Распределение можно считать нормальным.\n",
      "\n",
      "\n"
     ]
    }
   ],
   "source": [
    "ALPHA = 0.025  # Уровень значимости\n",
    "\n",
    "# Проведение теста Шапиро-Уилка\n",
    "stat, p_value = stats.shapiro(data)\n",
    "# Вывод результатов\n",
    "print(f\"Результаты теста Шапиро-Уилка - :\")\n",
    "print(f\"Статистика теста: {stat:.4f}\")\n",
    "print(f\"P-значение: {p_value:.4f}\")\n",
    "# Проверка гипотезы\n",
    "# H0: CFD - normal distribution\n",
    "# H1: CFD - NOT normal distribution\n",
    "if p_value > ALPHA:\n",
    "    print(f\"Гипотеза о нормальности НЕ отвергается на уровне значимости {ALPHA}.\")\n",
    "    print(\"Распределение можно считать нормальным.\")\n",
    "else:\n",
    "    print(f\"Гипотеза о нормальности отвергается на уровне значимости {ALPHA}.\")\n",
    "    print(\"Распределение нельзя считать нормальным.\")\n",
    "\n",
    "print(\"\\n\")\n",
    "\n"
   ]
  },
  {
   "cell_type": "code",
   "execution_count": 42,
   "metadata": {},
   "outputs": [
    {
     "name": "stdout",
     "output_type": "stream",
     "text": [
      "Результаты теста хи-квадрат -:\n",
      "Статистика теста: 9.0037\n",
      "P-значение: 0.1089\n",
      "Гипотеза о нормальности НЕ отвергается на уровне значимости 0.025.\n",
      "Распределение можно считать нормальным.\n",
      "\n",
      "\n"
     ]
    }
   ],
   "source": [
    "observed_freq, bins = np.histogram(data, bins=6, density=False)\n",
    "# Ожидаемая частота для нормального распределения\n",
    "mean, std = np.mean(data), np.std(data)\n",
    "# Для нормального распределения рассчитываем вероятность попадания в каждый интервал\n",
    "expected_freq = len(data) * (stats.norm.cdf(bins[1:], loc=mean, scale=std) - stats.norm.cdf(bins[:-1], loc=mean, scale=std))\n",
    "# Нормализуем ожидаемые частоты, чтобы их сумма совпала с наблюдаемыми\n",
    "expected_freq = expected_freq / expected_freq.sum() * observed_freq.sum()\n",
    "# Применяем критерий хи-квадрат\n",
    "chi2_stat, p_value = stats.chisquare(observed_freq, expected_freq)\n",
    "# Вывод результатов\n",
    "print(f\"Результаты теста хи-квадрат -:\")\n",
    "print(f\"Статистика теста: {chi2_stat:.4f}\")\n",
    "print(f\"P-значение: {p_value:.4f}\")\n",
    "# Проверка гипотезы\n",
    "if p_value > ALPHA:\n",
    "    print(f\"Гипотеза о нормальности НЕ отвергается на уровне значимости {ALPHA}.\")\n",
    "    print(\"Распределение можно считать нормальным.\")\n",
    "else:\n",
    "    print(f\"Гипотеза о нормальности отвергается на уровне значимости {ALPHA}.\")\n",
    "    print(\"Распределение нельзя считать нормальным.\")\n",
    "\n",
    "print(\"\\n\")"
   ]
  },
  {
   "cell_type": "code",
   "execution_count": 43,
   "metadata": {},
   "outputs": [
    {
     "name": "stdout",
     "output_type": "stream",
     "text": [
      "Результаты теста Шапиро-Уилка -:\n",
      "Статистика теста: 0.6138429116824939\n",
      "P-значение: 0.7357083842340795\n",
      "Гипотеза о нормальности НЕ отвергается на уровне значимости 0.025.\n",
      "Распределение можно считать нормальным.\n",
      "\n",
      "\n"
     ]
    }
   ],
   "source": [
    "ALPHA = 0.025  # Уровень значимости\n",
    "# Проведение теста Шапиро-Уилка\n",
    "stat, p_value = stats.normaltest(data)\n",
    "# Вывод результатов\n",
    "print(f\"Результаты теста Шапиро-Уилка -:\")\n",
    "print(f\"Статистика теста: {stat}\")\n",
    "print(f\"P-значение: {p_value}\")\n",
    "# Проверка гипотезы\n",
    "# H0: CFD - normal distribution\n",
    "# H1: CFD - NOT normal distribution\n",
    "if p_value > ALPHA:\n",
    "    print(f\"Гипотеза о нормальности НЕ отвергается на уровне значимости {ALPHA}.\")\n",
    "    print(\"Распределение можно считать нормальным.\")\n",
    "else:\n",
    "    print(f\"Гипотеза о нормальности отвергается на уровне значимости {ALPHA}.\")\n",
    "    print(\"Распределение нельзя считать нормальным.\")\n",
    "print(\"\\n\")"
   ]
  },
  {
   "cell_type": "code",
   "execution_count": 12,
   "metadata": {},
   "outputs": [],
   "source": [
    "M = 6500       # Количество выборок\n",
    "a = -3         # Среднее значение\n",
    "sigma = 6      # Стандартное отклонение\n",
    "alpha = 0.025  # Уровень значимости\n",
    "n = 45         # Размер выборки\n",
    "\n",
    "shapiro_rejections = 0\n",
    "dagostino_rejections = 0"
   ]
  },
  {
   "cell_type": "code",
   "execution_count": 13,
   "metadata": {},
   "outputs": [],
   "source": [
    "for _ in range(M):\n",
    "    sample = np.random.normal(a, sigma, n)\n",
    "    \n",
    "    stat_shapiro, p_value_shapiro = stats.shapiro(sample)\n",
    "    if p_value_shapiro < alpha:\n",
    "        shapiro_rejections += 1\n",
    "    \n",
    "    stat_dagostino, p_value_dagostino = stats.normaltest(sample)\n",
    "    if p_value_dagostino < alpha:\n",
    "        dagostino_rejections += 1"
   ]
  },
  {
   "cell_type": "code",
   "execution_count": 14,
   "metadata": {},
   "outputs": [],
   "source": [
    "error_rate_shapiro = shapiro_rejections / M\n",
    "error_rate_dagostino = dagostino_rejections / M"
   ]
  },
  {
   "cell_type": "code",
   "execution_count": 15,
   "metadata": {},
   "outputs": [
    {
     "name": "stdout",
     "output_type": "stream",
     "text": [
      "Оценка вероятности ошибки первого рода для теста Шапиро-Уилка: 0.0235\n",
      "Оценка вероятности ошибки первого рода для теста Д’Агостино: 0.0377\n"
     ]
    }
   ],
   "source": [
    "print(f\"Оценка вероятности ошибки первого рода для теста Шапиро-Уилка: {error_rate_shapiro:.4f}\")\n",
    "print(f\"Оценка вероятности ошибки первого рода для теста Д’Агостино: {error_rate_dagostino:.4f}\")"
   ]
  },
  {
   "cell_type": "code",
   "execution_count": 16,
   "metadata": {},
   "outputs": [],
   "source": [
    "M = 6500       # Количество выборок\n",
    "k = 8          # Число степеней свободы\n",
    "alpha = 0.025  # Уровень значимости\n",
    "n = 45         # Размер выборки\n",
    "\n",
    "shapiro_rejections = 0\n",
    "dagostino_rejections = 0"
   ]
  },
  {
   "cell_type": "code",
   "execution_count": 17,
   "metadata": {},
   "outputs": [],
   "source": [
    "for _ in range(M):\n",
    "    sample = np.random.standard_t(k, n)\n",
    "\n",
    "    stat_shapiro, p_value_shapiro = stats.shapiro(sample)\n",
    "    if p_value_shapiro < alpha:\n",
    "        shapiro_rejections += 1\n",
    "    \n",
    "    stat_dagostino, p_value_dagostino = stats.normaltest(sample)\n",
    "    if p_value_dagostino < alpha:\n",
    "        dagostino_rejections += 1"
   ]
  },
  {
   "cell_type": "code",
   "execution_count": 18,
   "metadata": {},
   "outputs": [],
   "source": [
    "power_shapiro = shapiro_rejections / M\n",
    "power_dagostino = dagostino_rejections / M"
   ]
  },
  {
   "cell_type": "code",
   "execution_count": 19,
   "metadata": {},
   "outputs": [
    {
     "name": "stdout",
     "output_type": "stream",
     "text": [
      "Оценка мощности теста Шапиро-Уилка: 0.1366\n",
      "Оценка мощности теста Д’Агостино: 0.1814\n"
     ]
    }
   ],
   "source": [
    "print(f\"Оценка мощности теста Шапиро-Уилка: {power_shapiro:.4f}\")\n",
    "print(f\"Оценка мощности теста Д’Агостино: {power_dagostino:.4f}\")"
   ]
  },
  {
   "cell_type": "code",
   "execution_count": 20,
   "metadata": {},
   "outputs": [
    {
     "name": "stdout",
     "output_type": "stream",
     "text": [
      "Тест Д’Агостино более мощный при данной альтернативе.\n"
     ]
    }
   ],
   "source": [
    "if power_shapiro > power_dagostino:\n",
    "    print(\"Тест Шапиро-Уилка более мощный при данной альтернативе.\")\n",
    "else:\n",
    "    print(\"Тест Д’Агостино более мощный при данной альтернативе.\")"
   ]
  }
 ],
 "metadata": {
  "kernelspec": {
   "display_name": "base",
   "language": "python",
   "name": "python3"
  },
  "language_info": {
   "codemirror_mode": {
    "name": "ipython",
    "version": 3
   },
   "file_extension": ".py",
   "mimetype": "text/x-python",
   "name": "python",
   "nbconvert_exporter": "python",
   "pygments_lexer": "ipython3",
   "version": "3.11.4"
  }
 },
 "nbformat": 4,
 "nbformat_minor": 2
}
