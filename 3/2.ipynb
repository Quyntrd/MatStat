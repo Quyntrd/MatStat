{
 "cells": [
  {
   "cell_type": "code",
   "execution_count": 157,
   "metadata": {},
   "outputs": [],
   "source": [
    "import math\n",
    "import numpy as np\n",
    "import pandas as pd\n",
    "import matplotlib.pyplot as plt\n",
    "import scipy\n",
    "import os\n",
    "\n",
    "from scipy import stats\n",
    "from scipy.stats import norm, ttest_ind, shapiro"
   ]
  },
  {
   "cell_type": "code",
   "execution_count": 158,
   "metadata": {},
   "outputs": [
    {
     "name": "stdout",
     "output_type": "stream",
     "text": [
      "                               2005  2010  2015  2019  2020  2021\n",
      "Название области                                                 \n",
      "Республика Бурятия             38.6  41.3  45.6  45.1  44.7  43.4\n",
      "Республика Саха (Якутия)       49.3  57.1  55.2  61.6  60.3  60.0\n",
      "Забайкальский край             52.5  56.1  48.8  50.9  52.3  50.9\n",
      "Камчатский край                53.2  49.3  53.6  52.9  52.5  54.9\n",
      "Приморский край                53.5  52.7  50.0  51.8  51.1  50.8\n",
      "Хабаровский край               60.5  61.1  53.5  56.4  57.5  56.4\n",
      "Амурская область               60.7  62.8  55.4  54.9  55.4  56.8\n",
      "Магаданская область            55.2  55.6  61.0  62.2  62.4  63.1\n",
      "Сахалинская область            44.0  49.1  54.1  63.6  64.6  65.5\n",
      "Еврейская автономная  область  37.0  35.4  37.9  38.0  37.6  35.2\n",
      "Чукотский автономный округ     78.8  76.7  65.0  71.0  73.7  74.1\n"
     ]
    }
   ],
   "source": [
    "path = \"C:\\\\Users\\\\ROfl\\\\Desktop\\\\MS\\\\MatStat\\\\3\"\n",
    "os.chdir(path)\n",
    "\n",
    "CFD = pd.read_excel(\"CHISLO_DOCTORS.xlsx\", sheet_name='ROSSTAT')\n",
    "\n",
    "CFD = CFD.iloc[90:101]\n",
    "CFD = CFD.iloc[:, :13]\n",
    "CFD = CFD.drop(CFD.columns[[1,2,3,4,5,6]], axis=1)\n",
    "CFD.columns = ['Название области', '2005', '2010', '2015','2019', '2020', '2021']\n",
    "CFD.set_index('Название области', inplace=True)\n",
    "\n",
    "CFD = CFD.astype(float).copy()\n",
    "\n",
    "print(CFD)"
   ]
  },
  {
   "cell_type": "code",
   "execution_count": 159,
   "metadata": {},
   "outputs": [
    {
     "name": "stdout",
     "output_type": "stream",
     "text": [
      "Результаты теста Шапиро-Уилка - 0:\n",
      "Статистика теста: 0.9309\n",
      "P-значение: 0.4202\n",
      "Гипотеза о нормальности НЕ отвергается на уровне значимости 0.025.\n",
      "Распределение можно считать нормальным.\n",
      "\n",
      "\n",
      "Результаты теста Шапиро-Уилка - 1:\n",
      "Статистика теста: 0.9706\n",
      "P-значение: 0.8921\n",
      "Гипотеза о нормальности НЕ отвергается на уровне значимости 0.025.\n",
      "Распределение можно считать нормальным.\n",
      "\n",
      "\n",
      "Результаты теста Шапиро-Уилка - 2:\n",
      "Статистика теста: 0.9620\n",
      "P-значение: 0.7966\n",
      "Гипотеза о нормальности НЕ отвергается на уровне значимости 0.025.\n",
      "Распределение можно считать нормальным.\n",
      "\n",
      "\n",
      "Результаты теста Шапиро-Уилка - 3:\n",
      "Статистика теста: 0.9830\n",
      "P-значение: 0.9804\n",
      "Гипотеза о нормальности НЕ отвергается на уровне значимости 0.025.\n",
      "Распределение можно считать нормальным.\n",
      "\n",
      "\n",
      "Результаты теста Шапиро-Уилка - 4:\n",
      "Статистика теста: 0.9880\n",
      "P-значение: 0.9946\n",
      "Гипотеза о нормальности НЕ отвергается на уровне значимости 0.025.\n",
      "Распределение можно считать нормальным.\n",
      "\n",
      "\n",
      "Результаты теста Шапиро-Уилка - 5:\n",
      "Статистика теста: 0.9842\n",
      "P-значение: 0.9850\n",
      "Гипотеза о нормальности НЕ отвергается на уровне значимости 0.025.\n",
      "Распределение можно считать нормальным.\n",
      "\n",
      "\n"
     ]
    }
   ],
   "source": [
    "ALPHA = 0.025  # Уровень значимости\n",
    "\n",
    "for i in range(0, 6):\n",
    "    # Проведение теста Шапиро-Уилка\n",
    "    stat, p_value = stats.shapiro(CFD.iloc[:, i])\n",
    "\n",
    "    # Вывод результатов\n",
    "    print(f\"Результаты теста Шапиро-Уилка - {i}:\")\n",
    "    print(f\"Статистика теста: {stat:.4f}\")\n",
    "    print(f\"P-значение: {p_value:.4f}\")\n",
    "\n",
    "\n",
    "    # Проверка гипотезы\n",
    "    # H0: CFD - normal distribution\n",
    "    # H1: CFD - NOT normal distribution\n",
    "    if p_value > ALPHA:\n",
    "        print(f\"Гипотеза о нормальности НЕ отвергается на уровне значимости {ALPHA}.\")\n",
    "        print(\"Распределение можно считать нормальным.\")\n",
    "    else:\n",
    "        print(f\"Гипотеза о нормальности отвергается на уровне значимости {ALPHA}.\")\n",
    "        print(\"Распределение нельзя считать нормальным.\")\n",
    "\n",
    "    print(\"\\n\")\n",
    "\n"
   ]
  },
  {
   "cell_type": "code",
   "execution_count": 160,
   "metadata": {},
   "outputs": [
    {
     "name": "stdout",
     "output_type": "stream",
     "text": [
      "Результаты теста хи-квадрат - 0:\n",
      "Статистика теста: 9.0032\n",
      "P-значение: 0.4370\n",
      "Гипотеза о нормальности НЕ отвергается на уровне значимости 0.025.\n",
      "Распределение можно считать нормальным.\n",
      "\n",
      "\n",
      "Результаты теста хи-квадрат - 1:\n",
      "Статистика теста: 5.5381\n",
      "P-значение: 0.7851\n",
      "Гипотеза о нормальности НЕ отвергается на уровне значимости 0.025.\n",
      "Распределение можно считать нормальным.\n",
      "\n",
      "\n",
      "Результаты теста хи-квадрат - 2:\n",
      "Статистика теста: 6.4313\n",
      "P-значение: 0.6961\n",
      "Гипотеза о нормальности НЕ отвергается на уровне значимости 0.025.\n",
      "Распределение можно считать нормальным.\n",
      "\n",
      "\n",
      "Результаты теста хи-квадрат - 3:\n",
      "Статистика теста: 7.5012\n",
      "P-значение: 0.5851\n",
      "Гипотеза о нормальности НЕ отвергается на уровне значимости 0.025.\n",
      "Распределение можно считать нормальным.\n",
      "\n",
      "\n",
      "Результаты теста хи-квадрат - 4:\n",
      "Статистика теста: 5.2991\n",
      "P-значение: 0.8075\n",
      "Гипотеза о нормальности НЕ отвергается на уровне значимости 0.025.\n",
      "Распределение можно считать нормальным.\n",
      "\n",
      "\n",
      "Результаты теста хи-квадрат - 5:\n",
      "Статистика теста: 6.3340\n",
      "P-значение: 0.7061\n",
      "Гипотеза о нормальности НЕ отвергается на уровне значимости 0.025.\n",
      "Распределение можно считать нормальным.\n",
      "\n",
      "\n"
     ]
    }
   ],
   "source": [
    "for i in range(0, 6):\n",
    "    data = CFD.iloc[:, i]\n",
    "\n",
    "    observed_freq, bins = np.histogram(data, bins=10, density=False)\n",
    "    \n",
    "    # Ожидаемая частота для нормального распределения\n",
    "    mean, std = np.mean(data), np.std(data)\n",
    "    \n",
    "    # Для нормального распределения рассчитываем вероятность попадания в каждый интервал\n",
    "    expected_freq = len(data) * (stats.norm.cdf(bins[1:], loc=mean, scale=std) - stats.norm.cdf(bins[:-1], loc=mean, scale=std))\n",
    "    \n",
    "    # Нормализуем ожидаемые частоты, чтобы их сумма совпала с наблюдаемыми\n",
    "    expected_freq = expected_freq / expected_freq.sum() * observed_freq.sum()\n",
    "\n",
    "    # Применяем критерий хи-квадрат\n",
    "    chi2_stat, p_value = stats.chisquare(observed_freq, expected_freq)\n",
    "\n",
    "    # Вывод результатов\n",
    "    print(f\"Результаты теста хи-квадрат - {i}:\")\n",
    "    print(f\"Статистика теста: {chi2_stat:.4f}\")\n",
    "    print(f\"P-значение: {p_value:.4f}\")\n",
    "\n",
    "    # Проверка гипотезы\n",
    "    if p_value > ALPHA:\n",
    "        print(f\"Гипотеза о нормальности НЕ отвергается на уровне значимости {ALPHA}.\")\n",
    "        print(\"Распределение можно считать нормальным.\")\n",
    "    else:\n",
    "        print(f\"Гипотеза о нормальности отвергается на уровне значимости {ALPHA}.\")\n",
    "        print(\"Распределение нельзя считать нормальным.\")\n",
    "\n",
    "    print(\"\\n\")"
   ]
  },
  {
   "cell_type": "code",
   "execution_count": 161,
   "metadata": {},
   "outputs": [
    {
     "name": "stdout",
     "output_type": "stream",
     "text": [
      "Результаты теста Шапиро-Уилка - 0:\n",
      "Статистика теста: 3.0367\n",
      "P-значение: 0.2191\n",
      "Гипотеза о нормальности НЕ отвергается на уровне значимости 0.025.\n",
      "Распределение можно считать нормальным.\n",
      "\n",
      "\n",
      "Результаты теста Шапиро-Уилка - 1:\n",
      "Статистика теста: 1.0653\n",
      "P-значение: 0.5870\n",
      "Гипотеза о нормальности НЕ отвергается на уровне значимости 0.025.\n",
      "Распределение можно считать нормальным.\n",
      "\n",
      "\n",
      "Результаты теста Шапиро-Уилка - 2:\n",
      "Статистика теста: 1.2397\n",
      "P-значение: 0.5380\n",
      "Гипотеза о нормальности НЕ отвергается на уровне значимости 0.025.\n",
      "Распределение можно считать нормальным.\n",
      "\n",
      "\n",
      "Результаты теста Шапиро-Уилка - 3:\n",
      "Статистика теста: 0.2604\n",
      "P-значение: 0.8779\n",
      "Гипотеза о нормальности НЕ отвергается на уровне значимости 0.025.\n",
      "Распределение можно считать нормальным.\n",
      "\n",
      "\n",
      "Результаты теста Шапиро-Уилка - 4:\n",
      "Статистика теста: 0.3515\n",
      "P-значение: 0.8388\n",
      "Гипотеза о нормальности НЕ отвергается на уровне значимости 0.025.\n",
      "Распределение можно считать нормальным.\n",
      "\n",
      "\n",
      "Результаты теста Шапиро-Уилка - 5:\n",
      "Статистика теста: 0.5450\n",
      "P-значение: 0.7615\n",
      "Гипотеза о нормальности НЕ отвергается на уровне значимости 0.025.\n",
      "Распределение можно считать нормальным.\n",
      "\n",
      "\n"
     ]
    },
    {
     "name": "stderr",
     "output_type": "stream",
     "text": [
      "c:\\Users\\ROfl\\anaconda3\\Lib\\site-packages\\scipy\\stats\\_stats_py.py:1806: UserWarning: kurtosistest only valid for n>=20 ... continuing anyway, n=11\n",
      "  warnings.warn(\"kurtosistest only valid for n>=20 ... continuing \"\n"
     ]
    }
   ],
   "source": [
    "ALPHA = 0.025  # Уровень значимости\n",
    "\n",
    "for i in range(0, 6):\n",
    "    # Проведение теста Шапиро-Уилка\n",
    "    stat, p_value = stats.normaltest(CFD.iloc[:, i])\n",
    "\n",
    "    # Вывод результатов\n",
    "    print(f\"Результаты теста Шапиро-Уилка - {i}:\")\n",
    "    print(f\"Статистика теста: {stat:.4f}\")\n",
    "    print(f\"P-значение: {p_value:.4f}\")\n",
    "\n",
    "\n",
    "    # Проверка гипотезы\n",
    "    # H0: CFD - normal distribution\n",
    "    # H1: CFD - NOT normal distribution\n",
    "    if p_value > ALPHA:\n",
    "        print(f\"Гипотеза о нормальности НЕ отвергается на уровне значимости {ALPHA}.\")\n",
    "        print(\"Распределение можно считать нормальным.\")\n",
    "    else:\n",
    "        print(f\"Гипотеза о нормальности отвергается на уровне значимости {ALPHA}.\")\n",
    "        print(\"Распределение нельзя считать нормальным.\")\n",
    "\n",
    "    print(\"\\n\")"
   ]
  },
  {
   "cell_type": "code",
   "execution_count": 162,
   "metadata": {},
   "outputs": [],
   "source": [
    "M = 6500       # Количество выборок\n",
    "a = -3         # Среднее значение\n",
    "sigma = 6      # Стандартное отклонение\n",
    "alpha = 0.025  # Уровень значимости\n",
    "n = 45         # Размер выборки\n",
    "\n",
    "shapiro_rejections = 0\n",
    "dagostino_rejections = 0"
   ]
  },
  {
   "cell_type": "code",
   "execution_count": 163,
   "metadata": {},
   "outputs": [],
   "source": [
    "for _ in range(M):\n",
    "    sample = np.random.normal(a, sigma, n)\n",
    "    \n",
    "    stat_shapiro, p_value_shapiro = stats.shapiro(sample)\n",
    "    if p_value_shapiro < alpha:\n",
    "        shapiro_rejections += 1\n",
    "    \n",
    "    stat_dagostino, p_value_dagostino = stats.normaltest(sample)\n",
    "    if p_value_dagostino < alpha:\n",
    "        dagostino_rejections += 1"
   ]
  },
  {
   "cell_type": "code",
   "execution_count": 164,
   "metadata": {},
   "outputs": [],
   "source": [
    "error_rate_shapiro = shapiro_rejections / M\n",
    "error_rate_dagostino = dagostino_rejections / M"
   ]
  },
  {
   "cell_type": "code",
   "execution_count": 165,
   "metadata": {},
   "outputs": [
    {
     "name": "stdout",
     "output_type": "stream",
     "text": [
      "Оценка вероятности ошибки первого рода для теста Шапиро-Уилка: 0.0262\n",
      "Оценка вероятности ошибки первого рода для теста Д’Агостино: 0.0366\n"
     ]
    }
   ],
   "source": [
    "print(f\"Оценка вероятности ошибки первого рода для теста Шапиро-Уилка: {error_rate_shapiro:.4f}\")\n",
    "print(f\"Оценка вероятности ошибки первого рода для теста Д’Агостино: {error_rate_dagostino:.4f}\")"
   ]
  },
  {
   "cell_type": "code",
   "execution_count": 166,
   "metadata": {},
   "outputs": [],
   "source": [
    "M = 6500       # Количество выборок\n",
    "k = 8          # Число степеней свободы\n",
    "alpha = 0.025  # Уровень значимости\n",
    "n = 45         # Размер выборки\n",
    "\n",
    "shapiro_rejections = 0\n",
    "dagostino_rejections = 0"
   ]
  },
  {
   "cell_type": "code",
   "execution_count": 167,
   "metadata": {},
   "outputs": [],
   "source": [
    "for _ in range(M):\n",
    "    sample = np.random.standard_t(k, n)\n",
    "\n",
    "    stat_shapiro, p_value_shapiro = stats.shapiro(sample)\n",
    "    if p_value_shapiro < alpha:\n",
    "        shapiro_rejections += 1\n",
    "    \n",
    "    stat_dagostino, p_value_dagostino = stats.normaltest(sample)\n",
    "    if p_value_dagostino < alpha:\n",
    "        dagostino_rejections += 1"
   ]
  },
  {
   "cell_type": "code",
   "execution_count": 168,
   "metadata": {},
   "outputs": [],
   "source": [
    "power_shapiro = shapiro_rejections / M\n",
    "power_dagostino = dagostino_rejections / M"
   ]
  },
  {
   "cell_type": "code",
   "execution_count": 169,
   "metadata": {},
   "outputs": [
    {
     "name": "stdout",
     "output_type": "stream",
     "text": [
      "Оценка мощности теста Шапиро-Уилка: 0.1340\n",
      "Оценка мощности теста Д’Агостино: 0.1788\n"
     ]
    }
   ],
   "source": [
    "print(f\"Оценка мощности теста Шапиро-Уилка: {power_shapiro:.4f}\")\n",
    "print(f\"Оценка мощности теста Д’Агостино: {power_dagostino:.4f}\")"
   ]
  },
  {
   "cell_type": "code",
   "execution_count": 170,
   "metadata": {},
   "outputs": [
    {
     "name": "stdout",
     "output_type": "stream",
     "text": [
      "Тест Д’Агостино более мощный при данной альтернативе.\n"
     ]
    }
   ],
   "source": [
    "if power_shapiro > power_dagostino:\n",
    "    print(\"Тест Шапиро-Уилка более мощный при данной альтернативе.\")\n",
    "else:\n",
    "    print(\"Тест Д’Агостино более мощный при данной альтернативе.\")"
   ]
  }
 ],
 "metadata": {
  "kernelspec": {
   "display_name": "base",
   "language": "python",
   "name": "python3"
  },
  "language_info": {
   "codemirror_mode": {
    "name": "ipython",
    "version": 3
   },
   "file_extension": ".py",
   "mimetype": "text/x-python",
   "name": "python",
   "nbconvert_exporter": "python",
   "pygments_lexer": "ipython3",
   "version": "3.11.5"
  }
 },
 "nbformat": 4,
 "nbformat_minor": 2
}
