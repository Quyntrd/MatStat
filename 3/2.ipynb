{
 "cells": [
  {
   "cell_type": "code",
   "execution_count": 35,
   "metadata": {},
   "outputs": [],
   "source": [
    "import math\n",
    "import numpy as np\n",
    "import pandas as pd\n",
    "import matplotlib.pyplot as plt\n",
    "import scipy\n",
    "import os\n",
    "\n",
    "from scipy import stats\n",
    "from scipy.stats import norm, ttest_ind, shapiro"
   ]
  },
  {
   "cell_type": "code",
   "execution_count": 36,
   "metadata": {},
   "outputs": [
    {
     "name": "stdout",
     "output_type": "stream",
     "text": [
      "[38.6, 49.3, 52.5, 53.2, 53.5, 60.5, 60.7, 55.2, 44.0, 37.0, 78.8, 41.3, 57.1, 56.1, 49.3, 52.7, 61.1, 62.8, 55.6, 49.1, 35.4, 76.7, 45.6, 55.2, 48.8, 53.6, 50.0, 53.5, 55.4, 61.0, 54.1, 37.9, 65.0, 45.1, 61.6, 50.9, 52.9, 51.8, 56.4, 54.9, 62.2, 63.6, 38.0, 71.0, 44.7, 60.3, 52.3, 52.5, 51.1, 57.5, 55.4, 62.4, 64.6, 37.6, 73.7, 43.4, 60.0, 50.9, 54.9, 50.8, 56.4, 56.8, 63.1, 65.5, 35.2, 74.1]\n"
     ]
    }
   ],
   "source": [
    "path = \"C:\\\\Users\\\\Quyntrd\\\\Desktop\\\\MatStat\\\\3\"\n",
    "os.chdir(path)\n",
    "\n",
    "CFD = pd.read_excel(\"CHISLO_DOCTORS.xlsx\", sheet_name='ROSSTAT')\n",
    "\n",
    "CFD = CFD.iloc[90:101]\n",
    "CFD = CFD.iloc[:, :13]\n",
    "CFD = CFD.drop(CFD.columns[[1,2,3,4,5,6]], axis=1)\n",
    "CFD.columns = ['Название области', '2005', '2010', '2015','2019', '2020', '2021']\n",
    "CFD.set_index('Название области', inplace=True)\n",
    "\n",
    "CFD = CFD.astype(float).copy()\n",
    "\n",
    "data = []\n",
    "for i in range(len(CFD.columns)):\n",
    "    for j in range (len(CFD.iloc[:, i])):\n",
    "        data.append(CFD.iloc[j,i])\n",
    "print(data)"
   ]
  },
  {
   "cell_type": "code",
   "execution_count": 37,
   "metadata": {},
   "outputs": [
    {
     "name": "stdout",
     "output_type": "stream",
     "text": [
      "Результаты теста Шапиро-Уилка - :\n",
      "Статистика теста: 0.9724\n",
      "P-значение: 0.1474\n",
      "Гипотеза о нормальности НЕ отвергается на уровне значимости 0.025.\n",
      "Распределение можно считать нормальным.\n",
      "\n",
      "\n"
     ]
    }
   ],
   "source": [
    "ALPHA = 0.025  # Уровень значимости\n",
    "\n",
    "# Проведение теста Шапиро-Уилка\n",
    "stat, p_value = stats.shapiro(data)\n",
    "# Вывод результатов\n",
    "print(f\"Результаты теста Шапиро-Уилка - :\")\n",
    "print(f\"Статистика теста: {stat:.4f}\")\n",
    "print(f\"P-значение: {p_value:.4f}\")\n",
    "# Проверка гипотезы\n",
    "# H0: CFD - normal distribution\n",
    "# H1: CFD - NOT normal distribution\n",
    "if p_value > ALPHA:\n",
    "    print(f\"Гипотеза о нормальности НЕ отвергается на уровне значимости {ALPHA}.\")\n",
    "    print(\"Распределение можно считать нормальным.\")\n",
    "else:\n",
    "    print(f\"Гипотеза о нормальности отвергается на уровне значимости {ALPHA}.\")\n",
    "    print(\"Распределение нельзя считать нормальным.\")\n",
    "\n",
    "print(\"\\n\")\n",
    "\n"
   ]
  },
  {
   "cell_type": "code",
   "execution_count": 98,
   "metadata": {},
   "outputs": [
    {
     "name": "stdout",
     "output_type": "stream",
     "text": [
      "[ 8  9 27 14  4  4]\n",
      "[ 8  9 27 14  8]\n",
      "[ 5.55359102 13.58798483 19.30043897 15.92344131  7.62850056  2.11989754]\n",
      "[ 6. 14. 20. 16.  8.  2.]\n",
      "[ 6. 14. 20. 16. 10.]\n",
      "Результаты теста хи-квадрат -:\n",
      "Статистика теста: 5.5524\n",
      "P-значение: 0.2352\n",
      "Гипотеза о нормальности НЕ отвергается на уровне значимости 0.025.\n",
      "Распределение можно считать нормальным.\n",
      "\n",
      "\n"
     ]
    }
   ],
   "source": [
    "observed_freq, bins = np.histogram(data, bins=6, density=False)\n",
    "print(observed_freq)\n",
    "# Ожидаемая частота для нормального распределения\n",
    "mean, std = np.mean(data), np.std(data)\n",
    "observed_freq[4] += observed_freq[5]\n",
    "observed_freq = observed_freq[:5]\n",
    "print(observed_freq)\n",
    "# Для нормального распределения рассчитываем вероятность попадания в каждый интервал\n",
    "expected_freq = len(data) * (stats.norm.cdf(bins[1:], loc=mean, scale=std) - stats.norm.cdf(bins[:-1], loc=mean, scale=std))\n",
    "print(expected_freq)\n",
    "\n",
    "# Нормализуем ожидаемые частоты, чтобы их сумма совпала с наблюдаемыми\n",
    "scale_factor = np.sum(observed_freq) / np.sum(expected_freq)\n",
    "expected_freq = (expected_freq * scale_factor).round()\n",
    "print(expected_freq)\n",
    "expected_freq[4] += expected_freq[5]\n",
    "expected_freq = expected_freq[:5]\n",
    "print(expected_freq)\n",
    "# Применяем критерий хи-квадрат\n",
    "chi2_stat, p_value = stats.chisquare(observed_freq, expected_freq)\n",
    "# Вывод результатов\n",
    "print(f\"Результаты теста хи-квадрат -:\")\n",
    "print(f\"Статистика теста: {chi2_stat:.4f}\")\n",
    "print(f\"P-значение: {p_value:.4f}\")\n",
    "# Проверка гипотезы\n",
    "if p_value > ALPHA:\n",
    "    print(f\"Гипотеза о нормальности НЕ отвергается на уровне значимости {ALPHA}.\")\n",
    "    print(\"Распределение можно считать нормальным.\")\n",
    "else:\n",
    "    print(f\"Гипотеза о нормальности отвергается на уровне значимости {ALPHA}.\")\n",
    "    print(\"Распределение нельзя считать нормальным.\")\n",
    "\n",
    "print(\"\\n\")"
   ]
  },
  {
   "cell_type": "code",
   "execution_count": 39,
   "metadata": {},
   "outputs": [
    {
     "name": "stdout",
     "output_type": "stream",
     "text": [
      "Результаты теста Шапиро-Уилка -:\n",
      "Статистика теста: 0.6138429116824939\n",
      "P-значение: 0.7357083842340795\n",
      "Гипотеза о нормальности НЕ отвергается на уровне значимости 0.025.\n",
      "Распределение можно считать нормальным.\n",
      "\n",
      "\n"
     ]
    }
   ],
   "source": [
    "ALPHA = 0.025  # Уровень значимости\n",
    "# Проведение теста Шапиро-Уилка\n",
    "stat, p_value = stats.normaltest(data)\n",
    "# Вывод результатов\n",
    "print(f\"Результаты теста Шапиро-Уилка -:\")\n",
    "print(f\"Статистика теста: {stat}\")\n",
    "print(f\"P-значение: {p_value}\")\n",
    "# Проверка гипотезы\n",
    "# H0: CFD - normal distribution\n",
    "# H1: CFD - NOT normal distribution\n",
    "if p_value > ALPHA:\n",
    "    print(f\"Гипотеза о нормальности НЕ отвергается на уровне значимости {ALPHA}.\")\n",
    "    print(\"Распределение можно считать нормальным.\")\n",
    "else:\n",
    "    print(f\"Гипотеза о нормальности отвергается на уровне значимости {ALPHA}.\")\n",
    "    print(\"Распределение нельзя считать нормальным.\")\n",
    "print(\"\\n\")"
   ]
  },
  {
   "cell_type": "code",
   "execution_count": 40,
   "metadata": {},
   "outputs": [],
   "source": [
    "M = 6500       # Количество выборок\n",
    "a = -3         # Среднее значение\n",
    "sigma = 6      # Стандартное отклонение\n",
    "alpha = 0.025  # Уровень значимости\n",
    "n = 45         # Размер выборки\n",
    "\n",
    "shapiro_rejections = 0\n",
    "dagostino_rejections = 0"
   ]
  },
  {
   "cell_type": "code",
   "execution_count": 41,
   "metadata": {},
   "outputs": [],
   "source": [
    "for _ in range(M):\n",
    "    sample = np.random.normal(a, sigma, n)\n",
    "    \n",
    "    stat_shapiro, p_value_shapiro = stats.shapiro(sample)\n",
    "    if p_value_shapiro < alpha:\n",
    "        shapiro_rejections += 1\n",
    "    \n",
    "    stat_dagostino, p_value_dagostino = stats.normaltest(sample)\n",
    "    if p_value_dagostino < alpha:\n",
    "        dagostino_rejections += 1"
   ]
  },
  {
   "cell_type": "code",
   "execution_count": 42,
   "metadata": {},
   "outputs": [],
   "source": [
    "error_rate_shapiro = shapiro_rejections / M\n",
    "error_rate_dagostino = dagostino_rejections / M"
   ]
  },
  {
   "cell_type": "code",
   "execution_count": 43,
   "metadata": {},
   "outputs": [
    {
     "name": "stdout",
     "output_type": "stream",
     "text": [
      "Оценка вероятности ошибки первого рода для теста Шапиро-Уилка: 0.0235\n",
      "Оценка вероятности ошибки первого рода для теста Д’Агостино: 0.0342\n"
     ]
    }
   ],
   "source": [
    "print(f\"Оценка вероятности ошибки первого рода для теста Шапиро-Уилка: {error_rate_shapiro:.4f}\")\n",
    "print(f\"Оценка вероятности ошибки первого рода для теста Д’Агостино: {error_rate_dagostino:.4f}\")"
   ]
  },
  {
   "cell_type": "code",
   "execution_count": 44,
   "metadata": {},
   "outputs": [],
   "source": [
    "M = 6500       # Количество выборок\n",
    "k = 8          # Число степеней свободы\n",
    "alpha = 0.025  # Уровень значимости\n",
    "n = 45         # Размер выборки\n",
    "\n",
    "shapiro_rejections = 0\n",
    "dagostino_rejections = 0"
   ]
  },
  {
   "cell_type": "code",
   "execution_count": 45,
   "metadata": {},
   "outputs": [],
   "source": [
    "for _ in range(M):\n",
    "    sample = np.random.standard_t(k, n)\n",
    "\n",
    "    stat_shapiro, p_value_shapiro = stats.shapiro(sample)\n",
    "    if p_value_shapiro < alpha:\n",
    "        shapiro_rejections += 1\n",
    "    \n",
    "    stat_dagostino, p_value_dagostino = stats.normaltest(sample)\n",
    "    if p_value_dagostino < alpha:\n",
    "        dagostino_rejections += 1"
   ]
  },
  {
   "cell_type": "code",
   "execution_count": 46,
   "metadata": {},
   "outputs": [],
   "source": [
    "power_shapiro = shapiro_rejections / M\n",
    "power_dagostino = dagostino_rejections / M"
   ]
  },
  {
   "cell_type": "code",
   "execution_count": 47,
   "metadata": {},
   "outputs": [
    {
     "name": "stdout",
     "output_type": "stream",
     "text": [
      "Оценка мощности теста Шапиро-Уилка: 0.1382\n",
      "Оценка мощности теста Д’Агостино: 0.1852\n"
     ]
    }
   ],
   "source": [
    "print(f\"Оценка мощности теста Шапиро-Уилка: {power_shapiro:.4f}\")\n",
    "print(f\"Оценка мощности теста Д’Агостино: {power_dagostino:.4f}\")"
   ]
  },
  {
   "cell_type": "code",
   "execution_count": 48,
   "metadata": {},
   "outputs": [
    {
     "name": "stdout",
     "output_type": "stream",
     "text": [
      "Тест Д’Агостино более мощный при данной альтернативе.\n"
     ]
    }
   ],
   "source": [
    "if power_shapiro > power_dagostino:\n",
    "    print(\"Тест Шапиро-Уилка более мощный при данной альтернативе.\")\n",
    "else:\n",
    "    print(\"Тест Д’Агостино более мощный при данной альтернативе.\")"
   ]
  }
 ],
 "metadata": {
  "kernelspec": {
   "display_name": "base",
   "language": "python",
   "name": "python3"
  },
  "language_info": {
   "codemirror_mode": {
    "name": "ipython",
    "version": 3
   },
   "file_extension": ".py",
   "mimetype": "text/x-python",
   "name": "python",
   "nbconvert_exporter": "python",
   "pygments_lexer": "ipython3",
   "version": "3.11.4"
  }
 },
 "nbformat": 4,
 "nbformat_minor": 2
}
